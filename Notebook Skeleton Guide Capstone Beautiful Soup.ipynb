{
 "cells": [
  {
   "cell_type": "markdown",
   "metadata": {},
   "source": [
    "# Capstone Webscrapping using BeautifulSoup\n",
    "\n",
    "\n",
    "## Background\n",
    "In this capstone project, I want to retrieve data on historical exchange rates between the Indonesian Rupiah and the US Dollar.The target web page is https://www.exchange-rates.org/history/IDR/USD/T. I will use `BeautifulSoup` in order to read data from the html page easily. \n",
    "\n",
    "## Requesting the data and creating a BeautifulSoup\n",
    "\n",
    "Let's begin with requesting the data from the web page with `get` method."
   ]
  },
  {
   "cell_type": "code",
   "execution_count": 47,
   "metadata": {
    "ExecuteTime": {
     "end_time": "2020-01-13T05:12:23.275508Z",
     "start_time": "2020-01-13T05:12:20.009898Z"
    }
   },
   "outputs": [],
   "source": [
    "import requests\n",
    "\n",
    "url_get = requests.get('https://www.exchange-rates.org/history/IDR/USD/T')"
   ]
  },
  {
   "cell_type": "markdown",
   "metadata": {},
   "source": [
    "To visualize what exactly we get from the `request.get`, we can use .content to do slicing as needed."
   ]
  },
  {
   "cell_type": "code",
   "execution_count": 48,
   "metadata": {
    "ExecuteTime": {
     "end_time": "2020-01-13T05:12:23.290648Z",
     "start_time": "2020-01-13T05:12:23.277650Z"
    }
   },
   "outputs": [
    {
     "data": {
      "text/plain": [
       "b'\\n<!DOCTYPE html>\\r\\n<!--[if lt IE 9]>\\r\\n    <html class=\"no-js ie8 oldie\" lang=\\'en\\' xml:lang=\\'en\\'>\\r\\n<![endif]-->\\r\\n<!--[if gt IE 8]><!--> <html class=\"no-js\" lang=\\'en\\' xml:lang=\\'en\\'> <!--<![endif]-->\\r\\n<head><title>Indonesian Rupiah Exchange Rate - US Dollar - Historical Exchange Rates</title><!-- Quantcast Choice. Consent Manager Tag v2.0 (for TCF 2.0) -->\\r\\n<script type=\"text/javascript\" async=true>\\r\\n(function() {\\r\\n  var host = window.location.hostname;\\r\\n  var element = document.createElement(\\'scri'"
      ]
     },
     "execution_count": 48,
     "metadata": {},
     "output_type": "execute_result"
    }
   ],
   "source": [
    "url_get.content[1:500]"
   ]
  },
  {
   "cell_type": "markdown",
   "metadata": {},
   "source": [
    "Since the document above are very unstructured and complex, the beautiful soup function is used. Beautiful soup class will result a beautifulsoup object and transform a complex HTML document into a complex tree of Python objects. "
   ]
  },
  {
   "cell_type": "code",
   "execution_count": 49,
   "metadata": {
    "ExecuteTime": {
     "end_time": "2020-01-13T05:12:23.808122Z",
     "start_time": "2020-01-13T05:12:23.292610Z"
    }
   },
   "outputs": [
    {
     "name": "stdout",
     "output_type": "stream",
     "text": [
      "<class 'bs4.BeautifulSoup'>\n"
     ]
    }
   ],
   "source": [
    "from bs4 import BeautifulSoup \n",
    "\n",
    "soup = BeautifulSoup(url_get.content,\"html.parser\")\n",
    "print(type(soup))"
   ]
  },
  {
   "cell_type": "markdown",
   "metadata": {},
   "source": [
    "## Finding the right key to scrap the data & extracting the right information"
   ]
  },
  {
   "cell_type": "markdown",
   "metadata": {},
   "source": [
    "Let's see how the beautiful soup looks like. The content below is the same with `get_url` object but it's tidier. Also, for the simplicity of this notebook, I slice to only see the first 500 characters."
   ]
  },
  {
   "cell_type": "code",
   "execution_count": 50,
   "metadata": {
    "ExecuteTime": {
     "end_time": "2020-01-13T05:12:23.878904Z",
     "start_time": "2020-01-13T05:12:23.854974Z"
    }
   },
   "outputs": [
    {
     "name": "stdout",
     "output_type": "stream",
     "text": [
      "div class=\"table-responsive\">\n",
      " <table class=\"table table-striped table-hover table-hover-solid-row table-simple history-data\">\n",
      "  <tbody>\n",
      "   <tr>\n",
      "    <td>\n",
      "     7/9/2021\n",
      "    </td>\n",
      "    <td>\n",
      "     Friday\n",
      "    </td>\n",
      "    <td>\n",
      "     <a href=\"/Rate/USD/IDR/7-9-2021\">\n",
      "      14,499.31330\n",
      "     </a>\n",
      "     IDR\n",
      "    </td>\n",
      "    <td class=\"text-narrow-screen-hidden\">\n",
      "     <a href=\"/Rate/USD/IDR/7-9-2021\">\n",
      "      USD IDR rate for 7/9/2021\n",
      "     </a>\n",
      "    </td>\n",
      "   </tr>\n",
      "   <tr>\n",
      "    <td>\n",
      "     7/8/2021\n",
      "    </td>\n",
      "    <td>\n",
      " \n"
     ]
    }
   ],
   "source": [
    "table = soup.find('div', attrs={'class':'table-responsive'})\n",
    "print(table.prettify()[1:500])"
   ]
  },
  {
   "cell_type": "markdown",
   "metadata": {},
   "source": [
    "The line above use the `table` tag as a section in an HTML document. The `find()` help me to get part of the html code that I need, though it is only helpful for finding out the **first tag** with the specified name or id and returning an object type bs4. Hence, now I will use `find_all` for finding out **all tags** with specified tag name or id and returning them as a list of type bs4."
   ]
  },
  {
   "cell_type": "code",
   "execution_count": 93,
   "metadata": {},
   "outputs": [
    {
     "data": {
      "text/plain": [
       "[<tr><td>7/9/2021</td><td>Friday</td><td><a href=\"/Rate/USD/IDR/7-9-2021\">14,499.31330</a> IDR</td><td class=\"text-narrow-screen-hidden\"><a href=\"/Rate/USD/IDR/7-9-2021\">USD IDR rate for 7/9/2021</a></td></tr>,\n",
       " <tr><td>7/8/2021</td><td>Thursday</td><td><a href=\"/Rate/USD/IDR/7-8-2021\">14,515.87714</a> IDR</td><td class=\"text-narrow-screen-hidden\"><a href=\"/Rate/USD/IDR/7-8-2021\">USD IDR rate for 7/8/2021</a></td></tr>,\n",
       " <tr><td>7/7/2021</td><td>Wednesday</td><td><a href=\"/Rate/USD/IDR/7-7-2021\">14,503.93654</a> IDR</td><td class=\"text-narrow-screen-hidden\"><a href=\"/Rate/USD/IDR/7-7-2021\">USD IDR rate for 7/7/2021</a></td></tr>,\n",
       " <tr><td>7/6/2021</td><td>Tuesday</td><td><a href=\"/Rate/USD/IDR/7-6-2021\">14,469.58258</a> IDR</td><td class=\"text-narrow-screen-hidden\"><a href=\"/Rate/USD/IDR/7-6-2021\">USD IDR rate for 7/6/2021</a></td></tr>,\n",
       " <tr><td>7/5/2021</td><td>Monday</td><td><a href=\"/Rate/USD/IDR/7-5-2021\">14,493.33968</a> IDR</td><td class=\"text-narrow-screen-hidden\"><a href=\"/Rate/USD/IDR/7-5-2021\">USD IDR rate for 7/5/2021</a></td></tr>,\n",
       " <tr><td>7/2/2021</td><td>Friday</td><td><a href=\"/Rate/USD/IDR/7-2-2021\">14,497.65100</a> IDR</td><td class=\"text-narrow-screen-hidden\"><a href=\"/Rate/USD/IDR/7-2-2021\">USD IDR rate for 7/2/2021</a></td></tr>]"
      ]
     },
     "execution_count": 93,
     "metadata": {},
     "output_type": "execute_result"
    }
   ],
   "source": [
    "table.find_all('tr', attrs={'td': ''})[:6]"
   ]
  },
  {
   "cell_type": "markdown",
   "metadata": {},
   "source": [
    "To get the only text information, I add `.text`."
   ]
  },
  {
   "cell_type": "code",
   "execution_count": 94,
   "metadata": {},
   "outputs": [
    {
     "data": {
      "text/plain": [
       "'7/9/2021Friday14,499.31330 IDRUSD IDR rate for 7/9/2021'"
      ]
     },
     "execution_count": 94,
     "metadata": {},
     "output_type": "execute_result"
    }
   ],
   "source": [
    "table.find_all('tr', attrs={'td': ''})[0].text"
   ]
  },
  {
   "cell_type": "markdown",
   "metadata": {},
   "source": [
    "### Extracting the information"
   ]
  },
  {
   "cell_type": "markdown",
   "metadata": {},
   "source": [
    "Now, all the beautiful soup part is over. All the left to do is doing some programming to extract all the data automatically, and I use looping method instead of doing it manually. Since `find_all` will always return data in format list, I will use `len()` to check how long is our list."
   ]
  },
  {
   "cell_type": "code",
   "execution_count": 53,
   "metadata": {},
   "outputs": [
    {
     "data": {
      "text/plain": [
       "132"
      ]
     },
     "execution_count": 53,
     "metadata": {},
     "output_type": "execute_result"
    }
   ],
   "source": [
    "row = table.find_all('tr', attrs={'td':''})\n",
    "row_length = len(row)\n",
    "row_length"
   ]
  },
  {
   "cell_type": "markdown",
   "metadata": {},
   "source": [
    "After knowing the length of the data, then I will do the looping process.\n",
    "\n",
    "Here what the looping do to scrap the information:\n",
    "- First, I establish a placeholder to receive the information that I scrap.\n",
    "- I named a placeholder `temp` and it's a list.\n",
    "- Then, I will make a loop from one until the the length of the table row, which I will find all cell of the column one and two which contain the date and the exchange rates.\n",
    "- After that, I will append it to the tuple that I prepared before. Every one iteration I will scrap one line of the table."
   ]
  },
  {
   "cell_type": "code",
   "execution_count": 54,
   "metadata": {
    "ExecuteTime": {
     "end_time": "2020-01-13T05:12:24.008256Z",
     "start_time": "2020-01-13T05:12:23.980358Z"
    }
   },
   "outputs": [
    {
     "data": {
      "text/plain": [
       "['7/9/2021Friday14,499.31330 IDRUSD IDR rate for 7/9/2021',\n",
       " '7/8/2021Thursday14,515.87714 IDRUSD IDR rate for 7/8/2021',\n",
       " '7/7/2021Wednesday14,503.93654 IDRUSD IDR rate for 7/7/2021',\n",
       " '7/6/2021Tuesday14,469.58258 IDRUSD IDR rate for 7/6/2021',\n",
       " '7/5/2021Monday14,493.33968 IDRUSD IDR rate for 7/5/2021',\n",
       " '7/2/2021Friday14,497.65100 IDRUSD IDR rate for 7/2/2021',\n",
       " '7/1/2021Thursday13,270.37815 IDRUSD IDR rate for 7/1/2021',\n",
       " '6/30/2021Wednesday14,491.89811 IDRUSD IDR rate for 6/30/2021',\n",
       " '6/29/2021Tuesday13,215.84052 IDRUSD IDR rate for 6/29/2021',\n",
       " '6/28/2021Monday14,439.22236 IDRUSD IDR rate for 6/28/2021',\n",
       " '6/25/2021Friday14,426.82283 IDRUSD IDR rate for 6/25/2021',\n",
       " '6/24/2021Thursday14,436.21247 IDRUSD IDR rate for 6/24/2021',\n",
       " '\\n\\n\\n\\n\\n\\n',\n",
       " '6/23/2021Wednesday14,440.32729 IDRUSD IDR rate for 6/23/2021',\n",
       " '6/22/2021Tuesday14,396.08712 IDRUSD IDR rate for 6/22/2021',\n",
       " '6/21/2021Monday14,426.42481 IDRUSD IDR rate for 6/21/2021',\n",
       " '6/18/2021Friday14,440.13691 IDRUSD IDR rate for 6/18/2021',\n",
       " '6/17/2021Thursday14,383.75138 IDRUSD IDR rate for 6/17/2021',\n",
       " '6/16/2021Wednesday14,376.12040 IDRUSD IDR rate for 6/16/2021',\n",
       " '6/15/2021Tuesday14,205.14512 IDRUSD IDR rate for 6/15/2021',\n",
       " '6/14/2021Monday14,205.68458 IDRUSD IDR rate for 6/14/2021',\n",
       " '6/11/2021Friday14,241.97728 IDRUSD IDR rate for 6/11/2021',\n",
       " '6/10/2021Thursday14,262.89225 IDRUSD IDR rate for 6/10/2021',\n",
       " '6/9/2021Wednesday14,258.61758 IDRUSD IDR rate for 6/9/2021',\n",
       " '6/8/2021Tuesday14,256.29978 IDRUSD IDR rate for 6/8/2021',\n",
       " '6/7/2021Monday14,222.58206 IDRUSD IDR rate for 6/7/2021',\n",
       " '6/4/2021Friday14,227.49966 IDRUSD IDR rate for 6/4/2021',\n",
       " '6/3/2021Thursday14,353.54834 IDRUSD IDR rate for 6/3/2021',\n",
       " '6/2/2021Wednesday14,276.29774 IDRUSD IDR rate for 6/2/2021',\n",
       " '6/1/2021Tuesday14,274.83728 IDRUSD IDR rate for 6/1/2021',\n",
       " '5/31/2021Monday14,238.06947 IDRUSD IDR rate for 5/31/2021',\n",
       " '5/28/2021Friday14,283.54665 IDRUSD IDR rate for 5/28/2021',\n",
       " '5/27/2021Thursday14,326.24811 IDRUSD IDR rate for 5/27/2021',\n",
       " '5/26/2021Wednesday14,326.06920 IDRUSD IDR rate for 5/26/2021',\n",
       " '5/25/2021Tuesday14,310.90309 IDRUSD IDR rate for 5/25/2021',\n",
       " '5/24/2021Monday14,352.31470 IDRUSD IDR rate for 5/24/2021',\n",
       " '\\n\\n\\n\\n\\n\\n',\n",
       " '5/21/2021Friday14,401.13572 IDRUSD IDR rate for 5/21/2021',\n",
       " '5/20/2021Thursday14,362.81181 IDRUSD IDR rate for 5/20/2021',\n",
       " '5/19/2021Wednesday14,270.34468 IDRUSD IDR rate for 5/19/2021',\n",
       " '5/18/2021Tuesday14,263.79544 IDRUSD IDR rate for 5/18/2021',\n",
       " '5/17/2021Monday14,113.45630 IDRUSD IDR rate for 5/17/2021',\n",
       " '5/14/2021Friday14,122.81112 IDRUSD IDR rate for 5/14/2021',\n",
       " '5/13/2021Thursday14,185.45666 IDRUSD IDR rate for 5/13/2021',\n",
       " '5/12/2021Wednesday14,198.91195 IDRUSD IDR rate for 5/12/2021',\n",
       " '5/11/2021Tuesday14,197.76931 IDRUSD IDR rate for 5/11/2021',\n",
       " '5/10/2021Monday14,214.65659 IDRUSD IDR rate for 5/10/2021',\n",
       " '5/7/2021Friday14,278.55213 IDRUSD IDR rate for 5/7/2021',\n",
       " '5/6/2021Thursday14,302.00704 IDRUSD IDR rate for 5/6/2021',\n",
       " '5/5/2021Wednesday14,422.43566 IDRUSD IDR rate for 5/5/2021',\n",
       " '5/4/2021Tuesday14,424.14155 IDRUSD IDR rate for 5/4/2021',\n",
       " '5/3/2021Monday14,436.81882 IDRUSD IDR rate for 5/3/2021',\n",
       " '4/30/2021Friday14,444.45616 IDRUSD IDR rate for 4/30/2021',\n",
       " '4/29/2021Thursday14,487.67389 IDRUSD IDR rate for 4/29/2021',\n",
       " '4/28/2021Wednesday14,430.69637 IDRUSD IDR rate for 4/28/2021',\n",
       " '4/27/2021Tuesday14,472.65266 IDRUSD IDR rate for 4/27/2021',\n",
       " '4/26/2021Monday14,509.39683 IDRUSD IDR rate for 4/26/2021',\n",
       " '4/23/2021Friday14,496.38365 IDRUSD IDR rate for 4/23/2021',\n",
       " '4/22/2021Thursday14,512.83503 IDRUSD IDR rate for 4/22/2021',\n",
       " '4/21/2021Wednesday14,502.26090 IDRUSD IDR rate for 4/21/2021',\n",
       " '4/20/2021Tuesday14,502.50189 IDRUSD IDR rate for 4/20/2021',\n",
       " '4/19/2021Monday14,546.21674 IDRUSD IDR rate for 4/19/2021',\n",
       " '4/16/2021Friday14,555.47086 IDRUSD IDR rate for 4/16/2021',\n",
       " '4/15/2021Thursday14,606.52845 IDRUSD IDR rate for 4/15/2021',\n",
       " '4/14/2021Wednesday14,558.27832 IDRUSD IDR rate for 4/14/2021',\n",
       " '4/13/2021Tuesday14,591.89923 IDRUSD IDR rate for 4/13/2021',\n",
       " '4/12/2021Monday14,342.37375 IDRUSD IDR rate for 4/12/2021',\n",
       " '4/9/2021Friday14,545.59599 IDRUSD IDR rate for 4/9/2021',\n",
       " '4/8/2021Thursday14,470.71219 IDRUSD IDR rate for 4/8/2021',\n",
       " '4/7/2021Wednesday14,522.66559 IDRUSD IDR rate for 4/7/2021',\n",
       " '4/6/2021Tuesday14,426.44421 IDRUSD IDR rate for 4/6/2021',\n",
       " '4/5/2021Monday14,431.06530 IDRUSD IDR rate for 4/5/2021',\n",
       " '4/2/2021Friday14,525.77118 IDRUSD IDR rate for 4/2/2021',\n",
       " '4/1/2021Thursday14,471.67828 IDRUSD IDR rate for 4/1/2021',\n",
       " '3/31/2021Wednesday14,531.83272 IDRUSD IDR rate for 3/31/2021',\n",
       " '3/30/2021Tuesday14,471.20821 IDRUSD IDR rate for 3/30/2021',\n",
       " '3/29/2021Monday14,418.46962 IDRUSD IDR rate for 3/29/2021',\n",
       " '3/26/2021Friday14,348.53269 IDRUSD IDR rate for 3/26/2021',\n",
       " '3/25/2021Thursday14,430.27484 IDRUSD IDR rate for 3/25/2021',\n",
       " '3/24/2021Wednesday14,440.74305 IDRUSD IDR rate for 3/24/2021',\n",
       " '3/23/2021Tuesday14,414.95309 IDRUSD IDR rate for 3/23/2021',\n",
       " '3/22/2021Monday14,378.72677 IDRUSD IDR rate for 3/22/2021',\n",
       " '3/19/2021Friday14,409.66972 IDRUSD IDR rate for 3/19/2021',\n",
       " '3/18/2021Thursday14,423.29934 IDRUSD IDR rate for 3/18/2021',\n",
       " '3/17/2021Wednesday14,346.28612 IDRUSD IDR rate for 3/17/2021',\n",
       " '3/16/2021Tuesday14,407.76927 IDRUSD IDR rate for 3/16/2021',\n",
       " '3/15/2021Monday14,423.68150 IDRUSD IDR rate for 3/15/2021',\n",
       " '3/12/2021Friday14,393.57497 IDRUSD IDR rate for 3/12/2021',\n",
       " '3/11/2021Thursday14,319.87571 IDRUSD IDR rate for 3/11/2021',\n",
       " '3/10/2021Wednesday14,387.89293 IDRUSD IDR rate for 3/10/2021',\n",
       " '3/9/2021Tuesday14,396.25662 IDRUSD IDR rate for 3/9/2021',\n",
       " '3/8/2021Monday14,374.33106 IDRUSD IDR rate for 3/8/2021',\n",
       " '3/5/2021Friday14,292.17893 IDRUSD IDR rate for 3/5/2021',\n",
       " '3/4/2021Thursday14,261.85426 IDRUSD IDR rate for 3/4/2021',\n",
       " '3/3/2021Wednesday14,257.29443 IDRUSD IDR rate for 3/3/2021',\n",
       " '3/2/2021Tuesday14,256.28041 IDRUSD IDR rate for 3/2/2021',\n",
       " '3/1/2021Monday14,248.60576 IDRUSD IDR rate for 3/1/2021',\n",
       " '2/26/2021Friday14,300.27815 IDRUSD IDR rate for 2/26/2021',\n",
       " '2/25/2021Thursday14,139.73096 IDRUSD IDR rate for 2/25/2021',\n",
       " '2/24/2021Wednesday14,083.03673 IDRUSD IDR rate for 2/24/2021',\n",
       " '2/23/2021Tuesday14,092.64503 IDRUSD IDR rate for 2/23/2021',\n",
       " '2/22/2021Monday14,118.07274 IDRUSD IDR rate for 2/22/2021',\n",
       " '2/19/2021Friday14,066.79375 IDRUSD IDR rate for 2/19/2021',\n",
       " '2/18/2021Thursday14,013.51318 IDRUSD IDR rate for 2/18/2021',\n",
       " '2/17/2021Wednesday14,015.16095 IDRUSD IDR rate for 2/17/2021',\n",
       " '2/16/2021Tuesday13,935.96629 IDRUSD IDR rate for 2/16/2021',\n",
       " '2/15/2021Monday13,918.18725 IDRUSD IDR rate for 2/15/2021',\n",
       " '2/12/2021Friday13,988.54710 IDRUSD IDR rate for 2/12/2021',\n",
       " '2/11/2021Thursday13,982.27900 IDRUSD IDR rate for 2/11/2021',\n",
       " '2/10/2021Wednesday13,994.09212 IDRUSD IDR rate for 2/10/2021',\n",
       " '2/9/2021Tuesday13,920.52018 IDRUSD IDR rate for 2/9/2021',\n",
       " '2/8/2021Monday14,007.25257 IDRUSD IDR rate for 2/8/2021',\n",
       " '2/5/2021Friday14,008.99630 IDRUSD IDR rate for 2/5/2021',\n",
       " '2/4/2021Thursday14,020.87878 IDRUSD IDR rate for 2/4/2021',\n",
       " '2/3/2021Wednesday13,997.60682 IDRUSD IDR rate for 2/3/2021',\n",
       " '2/2/2021Tuesday14,004.60175 IDRUSD IDR rate for 2/2/2021',\n",
       " '2/1/2021Monday14,025.27450 IDRUSD IDR rate for 2/1/2021',\n",
       " '1/29/2021Friday14,027.32457 IDRUSD IDR rate for 1/29/2021',\n",
       " '1/28/2021Thursday14,048.06146 IDRUSD IDR rate for 1/28/2021',\n",
       " '1/27/2021Wednesday14,048.72649 IDRUSD IDR rate for 1/27/2021',\n",
       " '1/26/2021Tuesday14,062.91108 IDRUSD IDR rate for 1/26/2021',\n",
       " '1/25/2021Monday14,021.11609 IDRUSD IDR rate for 1/25/2021',\n",
       " '1/22/2021Friday14,025.60268 IDRUSD IDR rate for 1/22/2021',\n",
       " '1/21/2021Thursday13,964.91920 IDRUSD IDR rate for 1/21/2021',\n",
       " '1/20/2021Wednesday14,021.43046 IDRUSD IDR rate for 1/20/2021',\n",
       " '1/19/2021Tuesday14,063.60877 IDRUSD IDR rate for 1/19/2021',\n",
       " '1/18/2021Monday14,055.43768 IDRUSD IDR rate for 1/18/2021',\n",
       " '1/15/2021Friday14,153.46654 IDRUSD IDR rate for 1/15/2021',\n",
       " '1/14/2021Thursday14,070.58746 IDRUSD IDR rate for 1/14/2021',\n",
       " '1/13/2021Wednesday14,125.90174 IDRUSD IDR rate for 1/13/2021',\n",
       " '1/12/2021Tuesday14,074.81444 IDRUSD IDR rate for 1/12/2021',\n",
       " '1/11/2021Monday14,137.24151 IDRUSD IDR rate for 1/11/2021']"
      ]
     },
     "execution_count": 54,
     "metadata": {},
     "output_type": "execute_result"
    }
   ],
   "source": [
    "temp = [] #initiating a tuple\n",
    "\n",
    "for i in range(0, row_length):\n",
    "\n",
    "    data = table.find_all('tr', attrs={'td':''})[i].text\n",
    "       \n",
    "    temp.append((data)) \n",
    "    \n",
    "temp "
   ]
  },
  {
   "cell_type": "markdown",
   "metadata": {},
   "source": [
    "Then after we fix the list a bit, I will input it to `pandas` dataframe."
   ]
  },
  {
   "cell_type": "markdown",
   "metadata": {},
   "source": [
    "## Creating pandas dataframe & data wrangling"
   ]
  },
  {
   "cell_type": "code",
   "execution_count": 83,
   "metadata": {
    "ExecuteTime": {
     "end_time": "2020-01-13T05:12:41.517372Z",
     "start_time": "2020-01-13T05:12:29.130015Z"
    }
   },
   "outputs": [
    {
     "data": {
      "text/html": [
       "<div>\n",
       "<style scoped>\n",
       "    .dataframe tbody tr th:only-of-type {\n",
       "        vertical-align: middle;\n",
       "    }\n",
       "\n",
       "    .dataframe tbody tr th {\n",
       "        vertical-align: top;\n",
       "    }\n",
       "\n",
       "    .dataframe thead th {\n",
       "        text-align: right;\n",
       "    }\n",
       "</style>\n",
       "<table border=\"1\" class=\"dataframe\">\n",
       "  <thead>\n",
       "    <tr style=\"text-align: right;\">\n",
       "      <th></th>\n",
       "      <th>data</th>\n",
       "    </tr>\n",
       "  </thead>\n",
       "  <tbody>\n",
       "    <tr>\n",
       "      <th>0</th>\n",
       "      <td>7/9/2021Friday14,499.31330 IDRUSD IDR rate for...</td>\n",
       "    </tr>\n",
       "    <tr>\n",
       "      <th>1</th>\n",
       "      <td>7/8/2021Thursday14,515.87714 IDRUSD IDR rate f...</td>\n",
       "    </tr>\n",
       "    <tr>\n",
       "      <th>2</th>\n",
       "      <td>7/7/2021Wednesday14,503.93654 IDRUSD IDR rate ...</td>\n",
       "    </tr>\n",
       "    <tr>\n",
       "      <th>3</th>\n",
       "      <td>7/6/2021Tuesday14,469.58258 IDRUSD IDR rate fo...</td>\n",
       "    </tr>\n",
       "    <tr>\n",
       "      <th>4</th>\n",
       "      <td>7/5/2021Monday14,493.33968 IDRUSD IDR rate for...</td>\n",
       "    </tr>\n",
       "  </tbody>\n",
       "</table>\n",
       "</div>"
      ],
      "text/plain": [
       "                                                data\n",
       "0  7/9/2021Friday14,499.31330 IDRUSD IDR rate for...\n",
       "1  7/8/2021Thursday14,515.87714 IDRUSD IDR rate f...\n",
       "2  7/7/2021Wednesday14,503.93654 IDRUSD IDR rate ...\n",
       "3  7/6/2021Tuesday14,469.58258 IDRUSD IDR rate fo...\n",
       "4  7/5/2021Monday14,493.33968 IDRUSD IDR rate for..."
      ]
     },
     "execution_count": 83,
     "metadata": {},
     "output_type": "execute_result"
    }
   ],
   "source": [
    "import pandas as pd\n",
    "\n",
    "df = pd.DataFrame(temp, columns = ['data'])\n",
    "df.head()"
   ]
  },
  {
   "cell_type": "code",
   "execution_count": 84,
   "metadata": {},
   "outputs": [
    {
     "data": {
      "text/html": [
       "<div>\n",
       "<style scoped>\n",
       "    .dataframe tbody tr th:only-of-type {\n",
       "        vertical-align: middle;\n",
       "    }\n",
       "\n",
       "    .dataframe tbody tr th {\n",
       "        vertical-align: top;\n",
       "    }\n",
       "\n",
       "    .dataframe thead th {\n",
       "        text-align: right;\n",
       "    }\n",
       "</style>\n",
       "<table border=\"1\" class=\"dataframe\">\n",
       "  <thead>\n",
       "    <tr style=\"text-align: right;\">\n",
       "      <th></th>\n",
       "      <th>a</th>\n",
       "      <th>f</th>\n",
       "    </tr>\n",
       "  </thead>\n",
       "  <tbody>\n",
       "    <tr>\n",
       "      <th>0</th>\n",
       "      <td>7/9/2021Friday14,499.31330</td>\n",
       "      <td>7/9/2021</td>\n",
       "    </tr>\n",
       "    <tr>\n",
       "      <th>1</th>\n",
       "      <td>7/8/2021Thursday14,515.87714</td>\n",
       "      <td>7/8/2021</td>\n",
       "    </tr>\n",
       "    <tr>\n",
       "      <th>2</th>\n",
       "      <td>7/7/2021Wednesday14,503.93654</td>\n",
       "      <td>7/7/2021</td>\n",
       "    </tr>\n",
       "    <tr>\n",
       "      <th>3</th>\n",
       "      <td>7/6/2021Tuesday14,469.58258</td>\n",
       "      <td>7/6/2021</td>\n",
       "    </tr>\n",
       "    <tr>\n",
       "      <th>4</th>\n",
       "      <td>7/5/2021Monday14,493.33968</td>\n",
       "      <td>7/5/2021</td>\n",
       "    </tr>\n",
       "    <tr>\n",
       "      <th>...</th>\n",
       "      <td>...</td>\n",
       "      <td>...</td>\n",
       "    </tr>\n",
       "    <tr>\n",
       "      <th>127</th>\n",
       "      <td>1/15/2021Friday14,153.46654</td>\n",
       "      <td>1/15/2021</td>\n",
       "    </tr>\n",
       "    <tr>\n",
       "      <th>128</th>\n",
       "      <td>1/14/2021Thursday14,070.58746</td>\n",
       "      <td>1/14/2021</td>\n",
       "    </tr>\n",
       "    <tr>\n",
       "      <th>129</th>\n",
       "      <td>1/13/2021Wednesday14,125.90174</td>\n",
       "      <td>1/13/2021</td>\n",
       "    </tr>\n",
       "    <tr>\n",
       "      <th>130</th>\n",
       "      <td>1/12/2021Tuesday14,074.81444</td>\n",
       "      <td>1/12/2021</td>\n",
       "    </tr>\n",
       "    <tr>\n",
       "      <th>131</th>\n",
       "      <td>1/11/2021Monday14,137.24151</td>\n",
       "      <td>1/11/2021</td>\n",
       "    </tr>\n",
       "  </tbody>\n",
       "</table>\n",
       "<p>132 rows × 2 columns</p>\n",
       "</div>"
      ],
      "text/plain": [
       "                                  a          f\n",
       "0        7/9/2021Friday14,499.31330   7/9/2021\n",
       "1      7/8/2021Thursday14,515.87714   7/8/2021\n",
       "2     7/7/2021Wednesday14,503.93654   7/7/2021\n",
       "3       7/6/2021Tuesday14,469.58258   7/6/2021\n",
       "4        7/5/2021Monday14,493.33968   7/5/2021\n",
       "..                              ...        ...\n",
       "127     1/15/2021Friday14,153.46654  1/15/2021\n",
       "128   1/14/2021Thursday14,070.58746  1/14/2021\n",
       "129  1/13/2021Wednesday14,125.90174  1/13/2021\n",
       "130    1/12/2021Tuesday14,074.81444  1/12/2021\n",
       "131     1/11/2021Monday14,137.24151  1/11/2021\n",
       "\n",
       "[132 rows x 2 columns]"
      ]
     },
     "execution_count": 84,
     "metadata": {},
     "output_type": "execute_result"
    }
   ],
   "source": [
    "# Split the data column as a single column into multiple columns and tidy up the dataframe as needed\n",
    "df[['a','b','c','d','e','f']]= df.data.str.split(expand=True)\n",
    "df1 = df.drop(['data','b','c','d','e'], axis = 1)\n",
    "df1"
   ]
  },
  {
   "cell_type": "code",
   "execution_count": 85,
   "metadata": {},
   "outputs": [
    {
     "data": {
      "text/html": [
       "<div>\n",
       "<style scoped>\n",
       "    .dataframe tbody tr th:only-of-type {\n",
       "        vertical-align: middle;\n",
       "    }\n",
       "\n",
       "    .dataframe tbody tr th {\n",
       "        vertical-align: top;\n",
       "    }\n",
       "\n",
       "    .dataframe thead th {\n",
       "        text-align: right;\n",
       "    }\n",
       "</style>\n",
       "<table border=\"1\" class=\"dataframe\">\n",
       "  <thead>\n",
       "    <tr style=\"text-align: right;\">\n",
       "      <th></th>\n",
       "      <th>f</th>\n",
       "      <th>exchange_rates</th>\n",
       "    </tr>\n",
       "  </thead>\n",
       "  <tbody>\n",
       "    <tr>\n",
       "      <th>0</th>\n",
       "      <td>7/9/2021</td>\n",
       "      <td>14,499.31330</td>\n",
       "    </tr>\n",
       "    <tr>\n",
       "      <th>1</th>\n",
       "      <td>7/8/2021</td>\n",
       "      <td>14,515.87714</td>\n",
       "    </tr>\n",
       "    <tr>\n",
       "      <th>2</th>\n",
       "      <td>7/7/2021</td>\n",
       "      <td>14,503.93654</td>\n",
       "    </tr>\n",
       "    <tr>\n",
       "      <th>3</th>\n",
       "      <td>7/6/2021</td>\n",
       "      <td>14,469.58258</td>\n",
       "    </tr>\n",
       "    <tr>\n",
       "      <th>4</th>\n",
       "      <td>7/5/2021</td>\n",
       "      <td>14,493.33968</td>\n",
       "    </tr>\n",
       "    <tr>\n",
       "      <th>...</th>\n",
       "      <td>...</td>\n",
       "      <td>...</td>\n",
       "    </tr>\n",
       "    <tr>\n",
       "      <th>127</th>\n",
       "      <td>1/15/2021</td>\n",
       "      <td>14,153.46654</td>\n",
       "    </tr>\n",
       "    <tr>\n",
       "      <th>128</th>\n",
       "      <td>1/14/2021</td>\n",
       "      <td>14,070.58746</td>\n",
       "    </tr>\n",
       "    <tr>\n",
       "      <th>129</th>\n",
       "      <td>1/13/2021</td>\n",
       "      <td>14,125.90174</td>\n",
       "    </tr>\n",
       "    <tr>\n",
       "      <th>130</th>\n",
       "      <td>1/12/2021</td>\n",
       "      <td>14,074.81444</td>\n",
       "    </tr>\n",
       "    <tr>\n",
       "      <th>131</th>\n",
       "      <td>1/11/2021</td>\n",
       "      <td>14,137.24151</td>\n",
       "    </tr>\n",
       "  </tbody>\n",
       "</table>\n",
       "<p>132 rows × 2 columns</p>\n",
       "</div>"
      ],
      "text/plain": [
       "             f exchange_rates\n",
       "0     7/9/2021   14,499.31330\n",
       "1     7/8/2021   14,515.87714\n",
       "2     7/7/2021   14,503.93654\n",
       "3     7/6/2021   14,469.58258\n",
       "4     7/5/2021   14,493.33968\n",
       "..         ...            ...\n",
       "127  1/15/2021   14,153.46654\n",
       "128  1/14/2021   14,070.58746\n",
       "129  1/13/2021   14,125.90174\n",
       "130  1/12/2021   14,074.81444\n",
       "131  1/11/2021   14,137.24151\n",
       "\n",
       "[132 rows x 2 columns]"
      ]
     },
     "execution_count": 85,
     "metadata": {},
     "output_type": "execute_result"
    }
   ],
   "source": [
    "# Take specific value within the column 'a' for the exchange_rates column & tidy up the dataframe as needed\n",
    "df1['exchange_rates'] = df1['a'].str[-12:]\n",
    "df2 = df1.drop(['a'], axis=1)\n",
    "df2"
   ]
  },
  {
   "cell_type": "code",
   "execution_count": 86,
   "metadata": {
    "scrolled": true
   },
   "outputs": [
    {
     "name": "stdout",
     "output_type": "stream",
     "text": [
      "    exchange_rates       date\n",
      "0     14,499.31330 2021-07-09\n",
      "1     14,515.87714 2021-07-08\n",
      "2     14,503.93654 2021-07-07\n",
      "3     14,469.58258 2021-07-06\n",
      "4     14,493.33968 2021-07-05\n",
      "..             ...        ...\n",
      "127   14,153.46654 2021-01-15\n",
      "128   14,070.58746 2021-01-14\n",
      "129   14,125.90174 2021-01-13\n",
      "130   14,074.81444 2021-01-12\n",
      "131   14,137.24151 2021-01-11\n",
      "\n",
      "[132 rows x 2 columns]\n",
      "<class 'pandas.core.frame.DataFrame'>\n",
      "RangeIndex: 132 entries, 0 to 131\n",
      "Data columns (total 2 columns):\n",
      " #   Column          Non-Null Count  Dtype         \n",
      "---  ------          --------------  -----         \n",
      " 0   exchange_rates  130 non-null    object        \n",
      " 1   date            130 non-null    datetime64[ns]\n",
      "dtypes: datetime64[ns](1), object(1)\n",
      "memory usage: 2.2+ KB\n",
      "None\n"
     ]
    }
   ],
   "source": [
    "# Change the data type for the date column & tidy up the dataframe as needed\n",
    "df2['date'] = df2['f'].astype('datetime64')\n",
    "df3 = df2.drop(['f'], axis = 1)\n",
    "print(df3)\n",
    "print(df3.info())"
   ]
  },
  {
   "cell_type": "code",
   "execution_count": 91,
   "metadata": {},
   "outputs": [
    {
     "data": {
      "text/html": [
       "<div>\n",
       "<style scoped>\n",
       "    .dataframe tbody tr th:only-of-type {\n",
       "        vertical-align: middle;\n",
       "    }\n",
       "\n",
       "    .dataframe tbody tr th {\n",
       "        vertical-align: top;\n",
       "    }\n",
       "\n",
       "    .dataframe thead th {\n",
       "        text-align: right;\n",
       "    }\n",
       "</style>\n",
       "<table border=\"1\" class=\"dataframe\">\n",
       "  <thead>\n",
       "    <tr style=\"text-align: right;\">\n",
       "      <th></th>\n",
       "      <th>exchange_rates</th>\n",
       "    </tr>\n",
       "    <tr>\n",
       "      <th>date</th>\n",
       "      <th></th>\n",
       "    </tr>\n",
       "  </thead>\n",
       "  <tbody>\n",
       "    <tr>\n",
       "      <th>2021-07-09</th>\n",
       "      <td>14499.0</td>\n",
       "    </tr>\n",
       "    <tr>\n",
       "      <th>2021-07-08</th>\n",
       "      <td>14516.0</td>\n",
       "    </tr>\n",
       "    <tr>\n",
       "      <th>2021-07-07</th>\n",
       "      <td>14504.0</td>\n",
       "    </tr>\n",
       "    <tr>\n",
       "      <th>2021-07-06</th>\n",
       "      <td>14470.0</td>\n",
       "    </tr>\n",
       "    <tr>\n",
       "      <th>2021-07-05</th>\n",
       "      <td>14493.0</td>\n",
       "    </tr>\n",
       "    <tr>\n",
       "      <th>...</th>\n",
       "      <td>...</td>\n",
       "    </tr>\n",
       "    <tr>\n",
       "      <th>2021-01-15</th>\n",
       "      <td>14153.0</td>\n",
       "    </tr>\n",
       "    <tr>\n",
       "      <th>2021-01-14</th>\n",
       "      <td>14071.0</td>\n",
       "    </tr>\n",
       "    <tr>\n",
       "      <th>2021-01-13</th>\n",
       "      <td>14126.0</td>\n",
       "    </tr>\n",
       "    <tr>\n",
       "      <th>2021-01-12</th>\n",
       "      <td>14075.0</td>\n",
       "    </tr>\n",
       "    <tr>\n",
       "      <th>2021-01-11</th>\n",
       "      <td>14137.0</td>\n",
       "    </tr>\n",
       "  </tbody>\n",
       "</table>\n",
       "<p>132 rows × 1 columns</p>\n",
       "</div>"
      ],
      "text/plain": [
       "            exchange_rates\n",
       "date                      \n",
       "2021-07-09         14499.0\n",
       "2021-07-08         14516.0\n",
       "2021-07-07         14504.0\n",
       "2021-07-06         14470.0\n",
       "2021-07-05         14493.0\n",
       "...                    ...\n",
       "2021-01-15         14153.0\n",
       "2021-01-14         14071.0\n",
       "2021-01-13         14126.0\n",
       "2021-01-12         14075.0\n",
       "2021-01-11         14137.0\n",
       "\n",
       "[132 rows x 1 columns]"
      ]
     },
     "execution_count": 91,
     "metadata": {},
     "output_type": "execute_result"
    }
   ],
   "source": [
    "# Replace string value within the column 'exchange_rates' and change the type to float\n",
    "df3['exchange_rates_clean'] = df3['exchange_rates'].str.replace(',', '')\n",
    "df4 = df3.drop(['exchange_rates'], axis=1)\n",
    "df4['exchange_rates_clean'] = df4['exchange_rates_clean'].astype('float64').round()\n",
    "# Set the date column as the index of the dataframe\n",
    "df4 = df4.set_index(['date'])\n",
    "# Tidy up the dataframe as needed\n",
    "df4['exchange_rates'] = df4['exchange_rates_clean']\n",
    "df4 = df4.drop(['exchange_rates_clean'], axis=1)\n",
    "df4"
   ]
  },
  {
   "cell_type": "markdown",
   "metadata": {},
   "source": [
    "After this, I will implement the scrapping to one function and put it at the flask webapp."
   ]
  },
  {
   "cell_type": "markdown",
   "metadata": {},
   "source": [
    "### Implementing your webscrapping to the flask dashboard\n",
    "\n",
    "- Copy paste all of your web scrapping process to the desired position on the `app.py`\n",
    "- Changing the title of the dasboard at `index.html`"
   ]
  },
  {
   "cell_type": "markdown",
   "metadata": {},
   "source": [
    "## Finishing This Notebook with Your Analysis and Conclusion\n",
    "\n",
    "First you can do start with making the data visualisation. "
   ]
  },
  {
   "cell_type": "code",
   "execution_count": 92,
   "metadata": {
    "ExecuteTime": {
     "end_time": "2020-01-13T05:20:56.208237Z",
     "start_time": "2020-01-13T05:20:56.076043Z"
    }
   },
   "outputs": [
    {
     "data": {
      "text/plain": [
       "<matplotlib.axes._subplots.AxesSubplot at 0x7fe93403f4c0>"
      ]
     },
     "execution_count": 92,
     "metadata": {},
     "output_type": "execute_result"
    },
    {
     "data": {
      "image/png": "[encoded data removed]",
      "text/plain": [
       "<Figure size 432x288 with 1 Axes>"
      ]
     },
     "metadata": {
      "needs_background": "light"
     },
     "output_type": "display_data"
    }
   ],
   "source": [
    "df4.plot()"
   ]
  },
  {
   "cell_type": "markdown",
   "metadata": {},
   "source": [
    "Based on the visualization above, there are significant decrease of the exchange rates within the specific dates in between the end of June 2021 and the beginning of July 2021. However, the data validation process is required for further analysis, especially, if the data will be used for forecasting purpose."
   ]
  },
  {
   "cell_type": "markdown",
   "metadata": {},
   "source": [
    "## Conclusion"
   ]
  },
  {
   "cell_type": "markdown",
   "metadata": {},
   "source": [
    "Web scrapping by using BeautifulSoup is useful for extracting structured data from a website. It can parse data from HTML files. Learning about BeautifulSoap features and doing a little of wrangling in this capstone project are beneficial for data analytics."
   ]
  }
 ],
 "metadata": {
  "kernelspec": {
   "display_name": "Python (algoritma_olympus)",
   "language": "python",
   "name": "algoritma_olympus"
  },
  "language_info": {
   "codemirror_mode": {
    "name": "ipython",
    "version": 3
   },
   "file_extension": ".py",
   "mimetype": "text/x-python",
   "name": "python",
   "nbconvert_exporter": "python",
   "pygments_lexer": "ipython3",
   "version": "3.8.8"
  }
 },
 "nbformat": 4,
 "nbformat_minor": 2
}
